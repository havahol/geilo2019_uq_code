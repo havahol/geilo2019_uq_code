{
 "cells": [
  {
   "cell_type": "code",
   "execution_count": 1,
   "metadata": {},
   "outputs": [],
   "source": [
    "import numpy as np\n",
    "import matplotlib\n",
    "%matplotlib inline\n",
    "import matplotlib.pyplot as plt"
   ]
  },
  {
   "cell_type": "markdown",
   "metadata": {},
   "source": [
    "# Uncertain equation\n",
    "$$u''(\\omega; t)-(a(\\omega)+b(\\omega))u'(\\omega;t) + a(\\omega)b(\\omega)u(t)=0$$\n",
    "$$u(\\omega; 0) = X(\\omega)$$\n",
    "$$u'(\\omega; 0) = Y(\\omega)$$"
   ]
  },
  {
   "cell_type": "code",
   "execution_count": 56,
   "metadata": {},
   "outputs": [],
   "source": [
    "def u_approx(u_0, dudt0, dt, T, a, b):\n",
    "    \"\"\"Approximates the solution of u''(t)-(a+b)*u'(t)+a*b*u(t)=0\n",
    "    given u(0)=u_0 and u'(0)= dudx0\"\"\"\n",
    "    \n",
    "    u = u_0\n",
    "    dudt = dudt0\n",
    "    \n",
    "    \n",
    "    t=0\n",
    "    while t < T:\n",
    "        u += dt * dudt\n",
    "        \n",
    "        dudt +=  dt*(a+b)*dudt - dt*a*b*u\n",
    "        \n",
    "        t += dt\n",
    "        \n",
    "    return u"
   ]
  },
  {
   "cell_type": "markdown",
   "metadata": {},
   "source": [
    "# Test that the method is correctly implemented\n",
    "\n",
    "The solution to the ODE for a single configuration (this is just sanity checking of the code)\n",
    "\n",
    "The general solution is\n",
    "$$u(t) = A\\exp(at) + B\\exp(bt)$$\n",
    "\n",
    "assuming furthermore $a=1$, $b=2$, $X=1$, $Y=0$, we get\n",
    "$$u(t) = 2 \\exp(t) - \\exp(2t)$$"
   ]
  },
  {
   "cell_type": "code",
   "execution_count": 59,
   "metadata": {
    "scrolled": false
   },
   "outputs": [
    {
     "name": "stdout",
     "output_type": "stream",
     "text": [
      "-0.095703125\n",
      "-0.7037375907239038\n",
      "-1.1994604385305006\n",
      "-1.5331683010544646\n",
      "-1.7302757769544068\n",
      "-1.837967572794273\n",
      "-1.8943376305118995\n",
      "-1.923186919295251\n",
      "-1.9377820076146468\n",
      "-1.945122725055455\n"
     ]
    },
    {
     "data": {
      "image/png": "[encoded data removed]",
      "text/plain": [
       "<Figure size 432x288 with 1 Axes>"
      ]
     },
     "metadata": {
      "needs_background": "light"
     },
     "output_type": "display_data"
    }
   ],
   "source": [
    "dts = 2.0**(-np.arange(2,12))\n",
    "errors = []\n",
    "\n",
    "for dt in dts:\n",
    "    \n",
    "    u = u_approx(1, 0, dt, 1, 1, 2)\n",
    "    print(u)\n",
    "    exact_solution = 2*np.exp(1)-np.exp(2)\n",
    "    errors.append(abs(u - exact_solution))\n",
    "    \n",
    "plt.loglog(dts, errors, '-o', basex=2, basey=2)\n",
    "plt.grid(True)"
   ]
  },
  {
   "cell_type": "code",
   "execution_count": null,
   "metadata": {},
   "outputs": [],
   "source": []
  },
  {
   "cell_type": "code",
   "execution_count": null,
   "metadata": {},
   "outputs": [],
   "source": []
  }
 ],
 "metadata": {
  "kernelspec": {
   "display_name": "Python 3",
   "language": "python",
   "name": "python3"
  },
  "language_info": {
   "codemirror_mode": {
    "name": "ipython",
    "version": 3
   },
   "file_extension": ".py",
   "mimetype": "text/x-python",
   "name": "python",
   "nbconvert_exporter": "python",
   "pygments_lexer": "ipython3",
   "version": "3.7.2"
  }
 },
 "nbformat": 4,
 "nbformat_minor": 2
}
