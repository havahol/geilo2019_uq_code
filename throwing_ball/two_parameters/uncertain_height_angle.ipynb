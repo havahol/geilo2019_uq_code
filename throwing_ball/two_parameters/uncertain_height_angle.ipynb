{
 "cells": [
  {
   "cell_type": "code",
   "execution_count": 11,
   "metadata": {},
   "outputs": [],
   "source": [
    "import numpy as np\n",
    "import matplotlib\n",
    "import scipy.integrate\n",
    "matplotlib.rcParams['savefig.dpi'] = 300\n",
    "import matplotlib.pyplot as plt\n",
    "import sys\n",
    "import exact"
   ]
  },
  {
   "cell_type": "code",
   "execution_count": 12,
   "metadata": {},
   "outputs": [],
   "source": [
    "def p(h_0, x_0, v_0, alpha, g):\n",
    "    return np.cos(alpha)*v_0*(v_0*np.sin(alpha)+ np.sqrt((v_0*np.sin(alpha))**2+2*g*h_0))/g +x_0\n"
   ]
  },
  {
   "cell_type": "code",
   "execution_count": 30,
   "metadata": {},
   "outputs": [],
   "source": [
    "def trapezoidal_integration(f, N):\n",
    "    \"\"\"\n",
    "    Integrates f from a to b using trapezoidal trapezoidal\n",
    "    \"\"\"\n",
    "    x, y = np.mgrid[0:1:N*1j, 0:1:N*1j]\n",
    "    dx = x[1,0] - x[0, 0]\n",
    "    dy = y[0,1] - y[0, 0]\n",
    "    \n",
    "    \n",
    "    return (f(x[0,0], y[0,0]) + f(x[-1,0], y[-1,0]) + f(x[-1,-1], y[-1, -1]) + f(x[0,-1], y[0,-1])\n",
    "            + 2 * np.sum(f(x[0,1:-1], y[0,1:-1])) + 2* np.sum(f(x[-1,1:-1], y[-1,1:-1])) \\\n",
    "            + 2 * np.sum(f(x[1:-1,0], y[1:-1,0])) + 2*np.sum(f(x[1:-1,-1], y[1:-1,-1]))\n",
    "            + 4 * np.sum(f(x[1:-1,1:-1], y[1:-1,1:-1]))) \\\n",
    "                * dx * dy  / 4\n"
   ]
  },
  {
   "cell_type": "code",
   "execution_count": 58,
   "metadata": {},
   "outputs": [],
   "source": [
    "x_0 = 0.2\n",
    "v_0 =20\n",
    "alpha = np.pi/8\n",
    "\n",
    "N = 500\n",
    "\n",
    "g = 9.81\n"
   ]
  },
  {
   "cell_type": "code",
   "execution_count": 59,
   "metadata": {},
   "outputs": [],
   "source": [
    "def scale_alpha(y):\n",
    "    return (5*np.pi/12)*y"
   ]
  },
  {
   "cell_type": "code",
   "execution_count": 60,
   "metadata": {},
   "outputs": [
    {
     "data": {
      "image/png": "[encoded data removed]",
      "text/plain": [
       "<Figure size 432x288 with 1 Axes>"
      ]
     },
     "metadata": {
      "needs_background": "light"
     },
     "output_type": "display_data"
    }
   ],
   "source": [
    "# First plot a sample path\n",
    "t = np.linspace(0, 1.6, 10)\n",
    "plt.plot(x_0 + np.cos(alpha)*v_0*t, 0.5 + np.sin(alpha)*v_0*t-0.5*g*t**2, 'o', label='Sample path')\n",
    "\n",
    "\n",
    "# Plot the different height possibilities\n",
    "plt.plot([x_0, x_0], [0.5-np.sqrt(1.0/12.0), 0.5+np.sqrt(1.0/12.0)],\n",
    "    linewidth=4, label='$[\\\\mathbb{E}(h_0)-\\\\mathrm{std}(h_0), \\\\mathbb{E}(h_0)+\\\\mathrm{std}(h_0)]$')\n",
    "\n",
    "plt.plot(x_0, 0.5, 'p', markersize=8, label='$\\\\mathbb{E}(h_0)$')\n",
    "\n",
    "\n",
    "# Plot the angle ranges\n",
    "plt.plot([x_0, x_0+0.2*np.cos(5*np.pi/12)], [0.5, 0.5 + 0.2 * np.sin(5*np.pi/12)], '--', color='grey')\n",
    "plt.plot([x_0, x_0+0.2], [0.5, 0.5], '--', color='grey')\n",
    "\n",
    "\n",
    "mean = trapezoidal_integration(lambda h_0, y: p(h_0, x_0, v_0, scale_alpha(y), g), N)\n",
    "\n",
    "variance = trapezoidal_integration(lambda h_0, y: (p(h_0, x_0, v_0, scale_alpha(y), g)-mean)**2, N)\n",
    "std = np.sqrt(variance)\n",
    "plt.plot([mean - std, mean+std], [0, 0], linewidth=4,\n",
    "    label='$[\\\\mathbb{E}(p)-\\\\mathrm{std}(p), \\\\mathbb{E}(p)+\\\\mathrm{std}(p)]$')\n",
    "plt.plot([mean], [0], '*', markersize=8, label='$\\\\mathbb{E}(p)$')\n",
    "plt.legend()\n",
    "plt.xlim([0, mean+std])\n",
    "\n",
    "plt.xlabel('$x$')\n",
    "plt.ylabel('$y$')\n",
    "\n",
    "plt.savefig('uncertain_height_angle.png')\n",
    "\n",
    "plt.show()\n",
    "\n",
    "\n",
    "\n"
   ]
  },
  {
   "cell_type": "markdown",
   "metadata": {},
   "source": [
    "# Convergence plots"
   ]
  },
  {
   "cell_type": "code",
   "execution_count": 37,
   "metadata": {},
   "outputs": [
    {
     "data": {
      "image/png": "[encoded data removed]",
      "text/plain": [
       "<Figure size 432x288 with 1 Axes>"
      ]
     },
     "metadata": {
      "needs_background": "light"
     },
     "output_type": "display_data"
    }
   ],
   "source": [
    "\n",
    "\n",
    "resolutions = 2**np.arange(3, 12)\n",
    "\n",
    "errors_mean = []\n",
    "\n",
    "# We just use a reference solution here\n",
    "mean_exact = scipy.integrate.dblquad(lambda h_0, y: p(h_0, x_0, v_0, scale_alpha(y), g), \n",
    "                               0, 1, lambda x: 0, lambda x: 1)[0]\n",
    "\n",
    "\n",
    "for resolution in resolutions:\n",
    "\n",
    "    mean = trapezoidal_integration(lambda h_0, y: p(h_0, x_0, v_0, scale_alpha(y), g), resolution)\n",
    "    errors_mean.append(np.abs(mean-mean_exact))\n",
    "errors_mean = np.array(errors_mean, dtype=np.float64)\n",
    "\n",
    "plt.loglog(resolutions**2, errors_mean, '-o', label='Error of Mean')\n",
    "fitted = np.polyfit(np.log(resolutions**2), np.log(errors_mean), 1)\n",
    "plt.loglog(resolutions**2, np.exp(fitted[1])*resolutions**(2*fitted[0]), '--',\n",
    "    label='$\\\\mathcal{{O}}(M^{{{:.1f}}})$'.format(fitted[0]))\n",
    "plt.xlabel('Number of evaluations $M=N^2$')\n",
    "plt.ylabel(\"Error\")\n",
    "plt.grid(True)\n",
    "plt.legend()\n",
    "plt.savefig('uncertain_height_angle_convergence.png')\n",
    "plt.show()\n"
   ]
  },
  {
   "cell_type": "code",
   "execution_count": null,
   "metadata": {},
   "outputs": [],
   "source": []
  }
 ],
 "metadata": {
  "kernelspec": {
   "display_name": "Python 3",
   "language": "python",
   "name": "python3"
  },
  "language_info": {
   "codemirror_mode": {
    "name": "ipython",
    "version": 3
   },
   "file_extension": ".py",
   "mimetype": "text/x-python",
   "name": "python",
   "nbconvert_exporter": "python",
   "pygments_lexer": "ipython3",
   "version": "3.7.2"
  }
 },
 "nbformat": 4,
 "nbformat_minor": 2
}
